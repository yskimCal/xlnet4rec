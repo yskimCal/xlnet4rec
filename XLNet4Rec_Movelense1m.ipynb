{
  "nbformat": 4,
  "nbformat_minor": 0,
  "metadata": {
    "colab": {
      "name": "XLNet4Rec_Movelense1M.ipynb",
      "provenance": [],
      "collapsed_sections": [
        "Do7lTmrzffcm"
      ],
      "toc_visible": true
    },
    "kernelspec": {
      "name": "python3",
      "display_name": "Python 3"
    },
    "accelerator": "GPU"
  },
  "cells": [
    {
      "cell_type": "markdown",
      "metadata": {
        "id": "lpXx4aMjAI4v"
      },
      "source": [
        "#XLNet4Rec - Movielense 1M"
      ]
    },
    {
      "cell_type": "markdown",
      "metadata": {
        "id": "DKGco8Y6ASaN"
      },
      "source": [
        "#### References: \n",
        "<br> 1) Tokenization and embedding\n",
        "* https://medium.com/huggingface/how-to-build-a-state-of-the-art-conversational-ai-with-transfer-learning-2d818ac26313\n",
        "* https://reyfarhan.com/posts/easy-gpt2-finetuning-huggingface/\n",
        "\n",
        "<br> 2) Training and Testing\n",
        "* https://mccormickml.com/2019/09/19/XLNet-fine-tuning/\n",
        "* https://towardsdatascience.com/teaching-gpt-2-a-sense-of-humor-fine-tuning-large-transformer-models-on-a-single-gpu-in-pytorch-59e8cec40912\n",
        "* https://huggingface.co/transformers/model_doc/xlnet.html\n",
        "\n",
        "<br> 3) Evaluation\n",
        "* https://github.com/FeiSun/BERT4Rec"
      ]
    },
    {
      "cell_type": "markdown",
      "metadata": {
        "id": "MZ7bsUXOAT7y"
      },
      "source": [
        "# Setup"
      ]
    },
    {
      "cell_type": "code",
      "metadata": {
        "id": "Hu7aM8vk_yU1"
      },
      "source": [
        "# Install transformers\n",
        "!pip install transformers"
      ],
      "execution_count": null,
      "outputs": []
    },
    {
      "cell_type": "code",
      "metadata": {
        "id": "YBf2UDALAW0L"
      },
      "source": [
        "# Import libraries\n",
        "import os\n",
        "import io\n",
        "import pickle\n",
        "import time\n",
        "import datetime\n",
        "import random\n",
        "import collections\n",
        "\n",
        "import numpy as np\n",
        "import pandas as pd\n",
        "import matplotlib.pyplot as plt\n",
        "import seaborn as sns\n",
        "from google.colab import drive\n",
        "\n",
        "import sklearn\n",
        "import torch\n",
        "from torch.utils.data import Dataset, DataLoader, random_split, RandomSampler, SequentialSampler\n",
        "torch.manual_seed(42)\n",
        "from tqdm import tqdm, trange\n",
        "\n",
        "from transformers import BertTokenizer, XLNetTokenizer, XLNetConfig, XLNetModel, XLNetLMHeadModel \n",
        "from transformers import AdamW, get_linear_schedule_with_warmup"
      ],
      "execution_count": 2,
      "outputs": []
    },
    {
      "cell_type": "code",
      "metadata": {
        "colab": {
          "base_uri": "https://localhost:8080/"
        },
        "id": "OtIzyHo8AZJq",
        "outputId": "e1e254ea-9098-406d-cd09-80e380c9dcdf"
      },
      "source": [
        "from google.colab import drive\n",
        "drive.mount('/content/gdrive')"
      ],
      "execution_count": 3,
      "outputs": [
        {
          "output_type": "stream",
          "text": [
            "Mounted at /content/gdrive\n"
          ],
          "name": "stdout"
        }
      ]
    },
    {
      "cell_type": "code",
      "metadata": {
        "id": "u-YVWHLbA917"
      },
      "source": [
        "ratings_frame = pd.read_csv(F\"/content/gdrive/My Drive/ML_1m/ratings.dat\", names=[\"userId\", \"movieId\", \"rating\", \"timestamp\"], sep=\"::\", engine=\"python\")"
      ],
      "execution_count": 4,
      "outputs": []
    },
    {
      "cell_type": "code",
      "metadata": {
        "id": "sKX-6jieLenr"
      },
      "source": [
        "ratings_frame.movieId = ratings_frame.movieId.apply(str)"
      ],
      "execution_count": 5,
      "outputs": []
    },
    {
      "cell_type": "code",
      "metadata": {
        "id": "NKVtbFfDBMtU"
      },
      "source": [
        "# Find users with more than 5 ratings\n",
        "idlist = ratings_frame['userId'].value_counts()\n",
        "indexes = idlist[idlist >= 5].index"
      ],
      "execution_count": 6,
      "outputs": []
    },
    {
      "cell_type": "code",
      "metadata": {
        "id": "KFlZOCiiRATm"
      },
      "source": [
        "# Extract Popular items\n",
        "pdlist = ratings_frame['movieId'].value_counts()"
      ],
      "execution_count": 7,
      "outputs": []
    },
    {
      "cell_type": "code",
      "metadata": {
        "id": "yJzJ9zR9RGrg"
      },
      "source": [
        "# Combine users and ratings as a list\n",
        "ratings_subset = ratings_frame[ratings_frame['userId'].isin(indexes)]\n",
        "ratings_subset.sort_values(by=['userId', 'timestamp'], inplace = True)\n",
        "ratings_final = ratings_subset.groupby('userId')['movieId'].apply(list).reset_index(name='items')"
      ],
      "execution_count": 8,
      "outputs": []
    },
    {
      "cell_type": "code",
      "metadata": {
        "colab": {
          "base_uri": "https://localhost:8080/",
          "height": 419
        },
        "id": "3mrEpb24RTR4",
        "outputId": "b4cf44d2-8f11-464b-e208-54c3cfe8c0a5"
      },
      "source": [
        "ratings_final"
      ],
      "execution_count": 9,
      "outputs": [
        {
          "output_type": "execute_result",
          "data": {
            "text/html": [
              "<div>\n",
              "<style scoped>\n",
              "    .dataframe tbody tr th:only-of-type {\n",
              "        vertical-align: middle;\n",
              "    }\n",
              "\n",
              "    .dataframe tbody tr th {\n",
              "        vertical-align: top;\n",
              "    }\n",
              "\n",
              "    .dataframe thead th {\n",
              "        text-align: right;\n",
              "    }\n",
              "</style>\n",
              "<table border=\"1\" class=\"dataframe\">\n",
              "  <thead>\n",
              "    <tr style=\"text-align: right;\">\n",
              "      <th></th>\n",
              "      <th>userId</th>\n",
              "      <th>items</th>\n",
              "    </tr>\n",
              "  </thead>\n",
              "  <tbody>\n",
              "    <tr>\n",
              "      <th>0</th>\n",
              "      <td>1</td>\n",
              "      <td>[3186, 1270, 1721, 1022, 2340, 1836, 3408, 280...</td>\n",
              "    </tr>\n",
              "    <tr>\n",
              "      <th>1</th>\n",
              "      <td>2</td>\n",
              "      <td>[1198, 1210, 1217, 2717, 1293, 2943, 1225, 119...</td>\n",
              "    </tr>\n",
              "    <tr>\n",
              "      <th>2</th>\n",
              "      <td>3</td>\n",
              "      <td>[593, 2858, 3534, 1968, 1431, 1961, 1266, 1378...</td>\n",
              "    </tr>\n",
              "    <tr>\n",
              "      <th>3</th>\n",
              "      <td>4</td>\n",
              "      <td>[1210, 1097, 3468, 480, 3527, 260, 1196, 1198,...</td>\n",
              "    </tr>\n",
              "    <tr>\n",
              "      <th>4</th>\n",
              "      <td>5</td>\n",
              "      <td>[2717, 908, 919, 1250, 356, 2858, 1127, 2188, ...</td>\n",
              "    </tr>\n",
              "    <tr>\n",
              "      <th>...</th>\n",
              "      <td>...</td>\n",
              "      <td>...</td>\n",
              "    </tr>\n",
              "    <tr>\n",
              "      <th>6035</th>\n",
              "      <td>6036</td>\n",
              "      <td>[1721, 2428, 3438, 1883, 2376, 2492, 2826, 282...</td>\n",
              "    </tr>\n",
              "    <tr>\n",
              "      <th>6036</th>\n",
              "      <td>6037</td>\n",
              "      <td>[1882, 3508, 702, 1267, 2028, 3148, 858, 562, ...</td>\n",
              "    </tr>\n",
              "    <tr>\n",
              "      <th>6037</th>\n",
              "      <td>6038</td>\n",
              "      <td>[920, 3396, 1210, 2146, 356, 1387, 1079, 1148,...</td>\n",
              "    </tr>\n",
              "    <tr>\n",
              "      <th>6038</th>\n",
              "      <td>6039</td>\n",
              "      <td>[282, 111, 2067, 930, 1230, 3022, 947, 3088, 3...</td>\n",
              "    </tr>\n",
              "    <tr>\n",
              "      <th>6039</th>\n",
              "      <td>6040</td>\n",
              "      <td>[858, 593, 2384, 1961, 2019, 573, 1419, 213, 3...</td>\n",
              "    </tr>\n",
              "  </tbody>\n",
              "</table>\n",
              "<p>6040 rows × 2 columns</p>\n",
              "</div>"
            ],
            "text/plain": [
              "      userId                                              items\n",
              "0          1  [3186, 1270, 1721, 1022, 2340, 1836, 3408, 280...\n",
              "1          2  [1198, 1210, 1217, 2717, 1293, 2943, 1225, 119...\n",
              "2          3  [593, 2858, 3534, 1968, 1431, 1961, 1266, 1378...\n",
              "3          4  [1210, 1097, 3468, 480, 3527, 260, 1196, 1198,...\n",
              "4          5  [2717, 908, 919, 1250, 356, 2858, 1127, 2188, ...\n",
              "...      ...                                                ...\n",
              "6035    6036  [1721, 2428, 3438, 1883, 2376, 2492, 2826, 282...\n",
              "6036    6037  [1882, 3508, 702, 1267, 2028, 3148, 858, 562, ...\n",
              "6037    6038  [920, 3396, 1210, 2146, 356, 1387, 1079, 1148,...\n",
              "6038    6039  [282, 111, 2067, 930, 1230, 3022, 947, 3088, 3...\n",
              "6039    6040  [858, 593, 2384, 1961, 2019, 573, 1419, 213, 3...\n",
              "\n",
              "[6040 rows x 2 columns]"
            ]
          },
          "metadata": {
            "tags": []
          },
          "execution_count": 9
        }
      ]
    },
    {
      "cell_type": "code",
      "metadata": {
        "colab": {
          "base_uri": "https://localhost:8080/",
          "height": 336
        },
        "id": "Es0NDk3RRUdp",
        "outputId": "5e14c999-1c77-46a2-804e-ef5483d8f678"
      },
      "source": [
        "# Check length of items per user\n",
        "import seaborn as sns\n",
        "\n",
        "item_lengths = []\n",
        "\n",
        "for r in range(0,len(ratings_final['items'])):\n",
        "\n",
        "    # get rough token count distribution\n",
        "    item_lengths.append(len(ratings_final['items'][r]))\n",
        "\n",
        "doc_lengths = np.array(item_lengths)\n",
        "\n",
        "sns.distplot(item_lengths)"
      ],
      "execution_count": 10,
      "outputs": [
        {
          "output_type": "stream",
          "text": [
            "/usr/local/lib/python3.6/dist-packages/seaborn/distributions.py:2551: FutureWarning: `distplot` is a deprecated function and will be removed in a future version. Please adapt your code to use either `displot` (a figure-level function with similar flexibility) or `histplot` (an axes-level function for histograms).\n",
            "  warnings.warn(msg, FutureWarning)\n"
          ],
          "name": "stderr"
        },
        {
          "output_type": "execute_result",
          "data": {
            "text/plain": [
              "<matplotlib.axes._subplots.AxesSubplot at 0x7fabdcf706d8>"
            ]
          },
          "metadata": {
            "tags": []
          },
          "execution_count": 10
        },
        {
          "output_type": "display_data",
          "data": {
            "image/png": "[encoded data removed]",
            "text/plain": [
              "<Figure size 432x288 with 1 Axes>"
            ]
          },
          "metadata": {
            "tags": [],
            "needs_background": "light"
          }
        }
      ]
    },
    {
      "cell_type": "code",
      "metadata": {
        "colab": {
          "base_uri": "https://localhost:8080/"
        },
        "id": "-vhxl-lXRZLh",
        "outputId": "58f24e31-8f2f-43e3-80fc-ac8de78a838e"
      },
      "source": [
        "# Maximum length of items\n",
        "np.max(item_lengths)"
      ],
      "execution_count": 11,
      "outputs": [
        {
          "output_type": "execute_result",
          "data": {
            "text/plain": [
              "2314"
            ]
          },
          "metadata": {
            "tags": []
          },
          "execution_count": 11
        }
      ]
    },
    {
      "cell_type": "code",
      "metadata": {
        "colab": {
          "base_uri": "https://localhost:8080/"
        },
        "id": "1MBqBugNRdLJ",
        "outputId": "57249219-36d3-48e2-fcee-64e169898641"
      },
      "source": [
        "# Median length of items\n",
        "np.mean(item_lengths)"
      ],
      "execution_count": 12,
      "outputs": [
        {
          "output_type": "execute_result",
          "data": {
            "text/plain": [
              "165.5975165562914"
            ]
          },
          "metadata": {
            "tags": []
          },
          "execution_count": 12
        }
      ]
    },
    {
      "cell_type": "code",
      "metadata": {
        "colab": {
          "base_uri": "https://localhost:8080/"
        },
        "id": "I82ewOO1Rhwv",
        "outputId": "197d2ef1-c607-4305-9cc3-355c0de3a86a"
      },
      "source": [
        "# Length of final dataset\n",
        "len(ratings_final)"
      ],
      "execution_count": 13,
      "outputs": [
        {
          "output_type": "execute_result",
          "data": {
            "text/plain": [
              "6040"
            ]
          },
          "metadata": {
            "tags": []
          },
          "execution_count": 13
        }
      ]
    },
    {
      "cell_type": "code",
      "metadata": {
        "id": "-NCaBcayRjiT"
      },
      "source": [
        "# Create new tokens\n",
        "from itertools import chain\n",
        "#new_tokens = list(set(list(chain(*ratings_final['items']))))\n",
        "new_tokens = list(pdlist.index)\n",
        "#new_tokens = ['<unk>','<s>','</s>','<cls>','<sep>','<pad>','<mask>','<eod>','<eop>'] + new_tokens\n",
        "new_tokens = ['<unk>','<mask>','<pad>','<cls>','<sep>'] + new_tokens"
      ],
      "execution_count": 14,
      "outputs": []
    },
    {
      "cell_type": "code",
      "metadata": {
        "colab": {
          "base_uri": "https://localhost:8080/"
        },
        "id": "yOuSFyH-RlQ5",
        "outputId": "f5f8d9e5-c267-4cd9-ddf9-c2a8ab087e26"
      },
      "source": [
        "# Length of new tokens\n",
        "len(new_tokens)"
      ],
      "execution_count": 15,
      "outputs": [
        {
          "output_type": "execute_result",
          "data": {
            "text/plain": [
              "3711"
            ]
          },
          "metadata": {
            "tags": []
          },
          "execution_count": 15
        }
      ]
    },
    {
      "cell_type": "code",
      "metadata": {
        "id": "hsPHRMNbRmVC"
      },
      "source": [
        "# Create vocab list for tokenizer\n",
        "with open('vocab.txt', 'w') as f:\n",
        "    for item in new_tokens:\n",
        "        f.write(\"%s\\n\" % item)"
      ],
      "execution_count": 16,
      "outputs": []
    },
    {
      "cell_type": "markdown",
      "metadata": {
        "id": "lztPsT4dRpUz"
      },
      "source": [
        "# Dataset Preparation"
      ]
    },
    {
      "cell_type": "code",
      "metadata": {
        "id": "O6YZjfp1RnUp"
      },
      "source": [
        "# Tokenizer\n",
        "tokenizer = BertTokenizer(vocab_file='vocab.txt', unk_token='<unk>', do_lower_case=False)"
      ],
      "execution_count": 17,
      "outputs": []
    },
    {
      "cell_type": "code",
      "metadata": {
        "id": "RmFC7wIWRvsS"
      },
      "source": [
        "# Padding function\n",
        "max_length=200\n",
        "# Now we can pad reply and distractor inputs and targets to the same length\n",
        "def pad(x, padding):\n",
        "    return x + [padding] * (max_length - len(x))"
      ],
      "execution_count": 18,
      "outputs": []
    },
    {
      "cell_type": "code",
      "metadata": {
        "id": "ZrYfNm0ZRwri"
      },
      "source": [
        "# Prepare item seq and padding function\n",
        "item_seq = ratings_final['items']\n",
        "train = []\n",
        "val = []\n",
        "test = []\n",
        "\n",
        "for i in range(0,len(item_seq)):\n",
        "  if len(item_seq[i]) > max_length:\n",
        "    seq = item_seq[i][0:max_length]\n",
        "  else:\n",
        "    seq = item_seq[i]\n",
        "  train.append(seq[0:-2])\n",
        "  val.append(seq[0:-1])\n",
        "  test.append(seq)"
      ],
      "execution_count": 19,
      "outputs": []
    },
    {
      "cell_type": "code",
      "metadata": {
        "id": "f3no0R6XRxjD"
      },
      "source": [
        "# Class for creating dataset\n",
        "class XLNetDataset(Dataset):\n",
        "\n",
        "  def __init__(self, item_seq, tokenizer, max_length=50):\n",
        "    self.tokenizer = tokenizer\n",
        "    self.input_ids = []\n",
        "    self.lables = []\n",
        "    #self.perm_mask = []\n",
        "    self.target_mapping = []\n",
        "    \n",
        "    for seq in item_seq: \n",
        "      if len(seq) == max_length:\n",
        "        seq = seq[0:-2]\n",
        "      elif len(seq) == (max_length-1):\n",
        "        seq = seq[0:-1]\n",
        "      else:\n",
        "        seq = seq\n",
        "      tokens = seq + ['<sep>'] + ['<cls>'] \n",
        "\n",
        "      # words token\n",
        "      input_words = tokenizer.convert_tokens_to_ids(tokens)\n",
        "      input_words = pad(input_words, 2)\n",
        "      words = torch.tensor(input_words, dtype=torch.long)\n",
        "      assert len(words) == max_length\n",
        "\n",
        "      # lables\n",
        "      lables = words[torch.where(words == 4)[0]-1]\n",
        "      self.lables.append(lables)\n",
        "\n",
        "      '''\n",
        "      # perm_mask\n",
        "      perm_mask = torch.zeros((1, words.shape[0], words.shape[0]), dtype=torch.long)\n",
        "      perm_mask[:, :, torch.where(words == 4)[0]-1] = 1\n",
        "      self.perm_mask.append(perm_mask[0])\n",
        "      '''\n",
        "      # target mapping\n",
        "      target_mapping = torch.zeros((1, 1, words.shape[0]), dtype=torch.float)\n",
        "      target_mapping[0, 0, torch.where(words == 4)[0]-1] = 1\n",
        "      self.target_mapping.append(target_mapping[0])\n",
        "\n",
        "      # masking\n",
        "      words[torch.where(words == 4)[0]-1] = 1\n",
        "      self.input_ids.append(words)\n",
        "\n",
        "  def __len__(self):\n",
        "    return len(self.input_ids)\n",
        "\n",
        "  def __getitem__(self, idx):\n",
        "    return self.input_ids[idx], self.lables[idx], self.target_mapping[idx], #self.perm_mask[idx], "
      ],
      "execution_count": 20,
      "outputs": []
    },
    {
      "cell_type": "code",
      "metadata": {
        "id": "d9EfVp9ZRyuy"
      },
      "source": [
        "# Create Dataset\n",
        "#dataset = XLNetDataset(item_seq, tokenizer, max_length=200)\n",
        "train_dataset = XLNetDataset(train, tokenizer, max_length=200)\n",
        "val_dataset = XLNetDataset(val, tokenizer, max_length=200)\n",
        "test_dataset = XLNetDataset(test, tokenizer, max_length=200)"
      ],
      "execution_count": 21,
      "outputs": []
    },
    {
      "cell_type": "markdown",
      "metadata": {
        "id": "m7ygqSXeURyL"
      },
      "source": [
        "# Training"
      ]
    },
    {
      "cell_type": "code",
      "metadata": {
        "id": "NgGtZmP7USeu"
      },
      "source": [
        "batch_size = 2\n",
        "\n",
        "# Create the DataLoaders for our training and validation datasets.\n",
        "# We'll take training samples in random order. \n",
        "train_dataloader = DataLoader(\n",
        "            train_dataset,  # The training samples.\n",
        "            sampler = SequentialSampler(train_dataset), # Pull out batches sequentially.\n",
        "            batch_size = batch_size # Trains with this batch size.\n",
        "        )\n",
        "\n",
        "# For validation the order doesn't matter, so we'll just read them sequentially.\n",
        "validation_dataloader = DataLoader(\n",
        "            val_dataset, # The validation samples.\n",
        "            sampler = SequentialSampler(val_dataset), # Pull out batches sequentially.\n",
        "            batch_size = 1 # Evaluate with this batch size.\n",
        "        )\n",
        "\n",
        "# Test\n",
        "test_dataloader = DataLoader(\n",
        "            test_dataset, # The test samples.\n",
        "            sampler = SequentialSampler(test_dataset), # Pull out batches sequentially.\n",
        "            batch_size = batch_size # Evaluate with this batch size.\n",
        "        )"
      ],
      "execution_count": 22,
      "outputs": []
    },
    {
      "cell_type": "code",
      "metadata": {
        "id": "_TcYlAYHUUrw"
      },
      "source": [
        "device = 'cpu'\n",
        "if torch.cuda.is_available():\n",
        "    device = 'cuda'"
      ],
      "execution_count": 23,
      "outputs": []
    },
    {
      "cell_type": "code",
      "metadata": {
        "id": "ifRTN1NiUZDX"
      },
      "source": [
        "config = XLNetConfig(\n",
        "    vocab_size=3711\n",
        ")"
      ],
      "execution_count": 24,
      "outputs": []
    },
    {
      "cell_type": "code",
      "metadata": {
        "id": "Oz1F4JH_UjIQ"
      },
      "source": [
        "model = XLNetLMHeadModel(config=config)"
      ],
      "execution_count": 25,
      "outputs": []
    },
    {
      "cell_type": "code",
      "metadata": {
        "id": "UZUftVJCUmNO"
      },
      "source": [
        "BATCH_SIZE = 2\n",
        "EPOCHS = 1\n",
        "LEARNING_RATE = 1e-4\n",
        "WARMUP_STEPS = 100\n",
        "MAX_SEQ_LEN = 200\n",
        "total_steps = len(train_dataloader) * EPOCHS"
      ],
      "execution_count": 26,
      "outputs": []
    },
    {
      "cell_type": "code",
      "metadata": {
        "colab": {
          "base_uri": "https://localhost:8080/"
        },
        "id": "R-v976HuUpdJ",
        "outputId": "dcaaf72c-d241-499d-dfb3-9f82f4710a12"
      },
      "source": [
        "%%time\n",
        "model = model.to(device)\n",
        "model.train()\n",
        "optimizer = AdamW(model.parameters(), lr=LEARNING_RATE)\n",
        "scheduler = get_linear_schedule_with_warmup(optimizer, num_warmup_steps=WARMUP_STEPS, num_training_steps=total_steps ,last_epoch = -1)\n",
        "proc_seq_count = 0\n",
        "sum_loss = 0.0\n",
        "batch_count = 0\n",
        "\n",
        "models_folder = \"trained_models\"\n",
        "if not os.path.exists(models_folder):\n",
        "    os.mkdir(models_folder)\n",
        "\n",
        "for epoch in range(EPOCHS):\n",
        "    \n",
        "    print(f\"EPOCH {epoch} started\" + '=' * 30)\n",
        "    \n",
        "    for idx, batch in enumerate(train_dataloader):\n",
        "        b_input_ids = batch[0].to(device)\n",
        "        b_labels = batch[1].to(device)\n",
        "        b_target_mapping = batch[2].to(device)\n",
        "        \n",
        "        outputs = model(input_ids=b_input_ids, labels=b_labels, target_mapping=b_target_mapping)\n",
        "\n",
        "        loss, logits = outputs[:2]                        \n",
        "        loss.backward()\n",
        "        sum_loss = sum_loss + loss.detach().data\n",
        "                       \n",
        "        proc_seq_count = proc_seq_count + 1\n",
        "        if proc_seq_count == BATCH_SIZE:\n",
        "            proc_seq_count = 0    \n",
        "            batch_count += 1\n",
        "            optimizer.step()\n",
        "            scheduler.step() \n",
        "            optimizer.zero_grad()\n",
        "            model.zero_grad()\n",
        "\n",
        "        if batch_count == 100:\n",
        "            print(f\"sum loss {sum_loss}\")\n",
        "            batch_count = 0\n",
        "            sum_loss = 0.0\n",
        "    \n",
        "    # Store the model after each epoch to compare the performance of them\n",
        "    torch.save(model.state_dict(), os.path.join(models_folder, f\"XLNet4Rec_Movie_{epoch}.pt\"))"
      ],
      "execution_count": null,
      "outputs": [
        {
          "output_type": "stream",
          "text": [
            "EPOCH 0 started==============================\n",
            "sum loss 1647.1646728515625\n",
            "sum loss 1607.5379638671875\n",
            "sum loss 1614.858154296875\n",
            "sum loss 1625.7506103515625\n",
            "sum loss 1628.0137939453125\n",
            "sum loss 1603.4366455078125\n",
            "sum loss 1585.4676513671875\n",
            "sum loss 1571.197021484375\n",
            "sum loss 1581.832763671875\n",
            "sum loss 1588.564453125\n",
            "sum loss 1597.232666015625\n",
            "sum loss 1605.02880859375\n",
            "sum loss 1594.077392578125\n",
            "sum loss 1603.5548095703125\n",
            "sum loss 1579.5252685546875\n",
            "CPU times: user 15min 51s, sys: 8min 25s, total: 24min 17s\n",
            "Wall time: 24min 22s\n"
          ],
          "name": "stdout"
        }
      ]
    },
    {
      "cell_type": "code",
      "metadata": {
        "id": "l8B5ldi0VTsr"
      },
      "source": [
        "model_save_name = 'XLNet4Rec_Movie_1.pt'\n",
        "path = F\"/content/gdrive/My Drive/{model_save_name}\" \n",
        "torch.save(model.state_dict(), path)"
      ],
      "execution_count": null,
      "outputs": []
    },
    {
      "cell_type": "markdown",
      "metadata": {
        "id": "Do7lTmrzffcm"
      },
      "source": [
        "# Another Training"
      ]
    },
    {
      "cell_type": "code",
      "metadata": {
        "colab": {
          "base_uri": "https://localhost:8080/"
        },
        "id": "H1WTK2XMfio6",
        "outputId": "e549940f-412b-4b46-8774-9fb7a13fbaa6"
      },
      "source": [
        "model_save_name = 'XLNet4Rec_Movie_3.pt'\n",
        "path = F\"/content/gdrive/My Drive/{model_save_name}\"\n",
        "model.load_state_dict(torch.load(path))"
      ],
      "execution_count": null,
      "outputs": [
        {
          "output_type": "execute_result",
          "data": {
            "text/plain": [
              "<All keys matched successfully>"
            ]
          },
          "metadata": {
            "tags": []
          },
          "execution_count": 32
        }
      ]
    },
    {
      "cell_type": "code",
      "metadata": {
        "colab": {
          "base_uri": "https://localhost:8080/"
        },
        "id": "fnMHS4jZfhDv",
        "outputId": "a4cca49b-2326-4f5b-cd78-ca8a9c45d870"
      },
      "source": [
        "%%time\n",
        "model = model.to(device)\n",
        "model.train()\n",
        "optimizer = AdamW(model.parameters(), lr=LEARNING_RATE)\n",
        "scheduler = get_linear_schedule_with_warmup(optimizer, num_warmup_steps=WARMUP_STEPS, num_training_steps=total_steps ,last_epoch = -1)\n",
        "proc_seq_count = 0\n",
        "sum_loss = 0.0\n",
        "batch_count = 0\n",
        "\n",
        "models_folder = \"trained_models\"\n",
        "if not os.path.exists(models_folder):\n",
        "    os.mkdir(models_folder)\n",
        "\n",
        "for epoch in range(EPOCHS):\n",
        "    \n",
        "    print(f\"EPOCH {epoch} started\" + '=' * 30)\n",
        "    \n",
        "    for idx, batch in enumerate(train_dataloader):\n",
        "        b_input_ids = batch[0].to(device)\n",
        "        b_labels = batch[1].to(device)\n",
        "        b_target_mapping = batch[2].to(device)\n",
        "        \n",
        "        outputs = model(input_ids=b_input_ids, labels=b_labels, target_mapping=b_target_mapping)\n",
        "\n",
        "        loss, logits = outputs[:2]                        \n",
        "        loss.backward()\n",
        "        sum_loss = sum_loss + loss.detach().data\n",
        "                       \n",
        "        proc_seq_count = proc_seq_count + 1\n",
        "        if proc_seq_count == BATCH_SIZE:\n",
        "            proc_seq_count = 0    \n",
        "            batch_count += 1\n",
        "            optimizer.step()\n",
        "            scheduler.step() \n",
        "            optimizer.zero_grad()\n",
        "            model.zero_grad()\n",
        "\n",
        "        if batch_count == 100:\n",
        "            print(f\"sum loss {sum_loss}\")\n",
        "            batch_count = 0\n",
        "            sum_loss = 0.0\n",
        "    \n",
        "    # Store the model after each epoch to compare the performance of them\n",
        "    torch.save(model.state_dict(), os.path.join(models_folder, f\"XLNet4Rec_Movie_{epoch}.pt\"))"
      ],
      "execution_count": null,
      "outputs": [
        {
          "output_type": "stream",
          "text": [
            "EPOCH 0 started==============================\n",
            "sum loss 1349.63671875\n",
            "sum loss 1358.9429931640625\n",
            "sum loss 1398.4970703125\n",
            "sum loss 1457.6650390625\n",
            "sum loss 1507.736083984375\n",
            "sum loss 1506.5982666015625\n",
            "sum loss 1501.601318359375\n",
            "sum loss 1497.4395751953125\n",
            "sum loss 1507.4842529296875\n",
            "sum loss 1515.5107421875\n",
            "sum loss 1569.6192626953125\n",
            "sum loss 1569.0867919921875\n",
            "sum loss 1549.2437744140625\n",
            "sum loss 1534.906982421875\n",
            "sum loss 1517.400390625\n",
            "CPU times: user 16min 9s, sys: 7min 41s, total: 23min 51s\n",
            "Wall time: 23min 57s\n"
          ],
          "name": "stdout"
        }
      ]
    },
    {
      "cell_type": "code",
      "metadata": {
        "id": "dxYLQvYYfs4j"
      },
      "source": [
        "model_save_name = 'XLNet4Rec_Movie_4.pt'\n",
        "path = F\"/content/gdrive/My Drive/{model_save_name}\" \n",
        "torch.save(model.state_dict(), path)"
      ],
      "execution_count": null,
      "outputs": []
    },
    {
      "cell_type": "markdown",
      "metadata": {
        "id": "MNHoqgk43cbu"
      },
      "source": [
        "# Testing"
      ]
    },
    {
      "cell_type": "code",
      "metadata": {
        "colab": {
          "base_uri": "https://localhost:8080/"
        },
        "id": "B0DzsfLU3RqT",
        "outputId": "0eea482c-ea4b-4b7e-f9c1-079d93dbf000"
      },
      "source": [
        "model_save_name = 'XLNet4Rec_Movie_4.pt'\n",
        "path = F\"/content/gdrive/My Drive/{model_save_name}\"\n",
        "model.load_state_dict(torch.load(path))"
      ],
      "execution_count": 27,
      "outputs": [
        {
          "output_type": "execute_result",
          "data": {
            "text/plain": [
              "<All keys matched successfully>"
            ]
          },
          "metadata": {
            "tags": []
          },
          "execution_count": 27
        }
      ]
    },
    {
      "cell_type": "code",
      "metadata": {
        "id": "0kzz_56x3lNj"
      },
      "source": [
        "# Top products\n",
        "vocab_size = 3706\n",
        "topProducts = [0,1,2,3,4] + tokenizer.convert_tokens_to_ids(list(pdlist.index)[0:vocab_size])"
      ],
      "execution_count": 28,
      "outputs": []
    },
    {
      "cell_type": "code",
      "metadata": {
        "id": "HINrF2hl3mkp"
      },
      "source": [
        "# Probability of each items\n",
        "sum_value = np.sum([x for x in pdlist.values[0:vocab_size]])\n",
        "probs = [0,0,0,0,0,] + [value / sum_value for value in pdlist.values[0:vocab_size]]"
      ],
      "execution_count": 29,
      "outputs": []
    },
    {
      "cell_type": "code",
      "metadata": {
        "colab": {
          "base_uri": "https://localhost:8080/"
        },
        "id": "ay7_ZSLQ3nxk",
        "outputId": "861198d9-69be-4e5a-9e9a-6c9acf52bc39"
      },
      "source": [
        "# Negative samples\n",
        "%%time\n",
        "np.random.seed(12345)\n",
        "neg_samples = []\n",
        "for j in range(0,len(test_dataset)):\n",
        "  samples = np.random.choice(topProducts, 100, replace=False, p=probs)\n",
        "  notinTest = [i for i in samples if i not in test_dataset[j][0][0:torch.where(test_dataset[j][0] == 1)[0]].tolist()]\n",
        "  notinTest = notinTest + test_dataset[j][1].tolist()\n",
        "  neg_samples.append(notinTest)"
      ],
      "execution_count": 30,
      "outputs": [
        {
          "output_type": "stream",
          "text": [
            "CPU times: user 27.6 s, sys: 62.6 ms, total: 27.6 s\n",
            "Wall time: 27.6 s\n"
          ],
          "name": "stdout"
        }
      ]
    },
    {
      "cell_type": "code",
      "metadata": {
        "colab": {
          "base_uri": "https://localhost:8080/"
        },
        "id": "OlfnlSnx3yzf",
        "outputId": "ecbfc9a3-d77c-4323-b47e-92243e031e43"
      },
      "source": [
        "# Compute Lengths\n",
        "neg_samples_length = []\n",
        "for i in range(0,len(neg_samples)):\n",
        "  neg_samples_length.append(len(neg_samples[i]))\n",
        "\n",
        "print(np.min(neg_samples_length))"
      ],
      "execution_count": null,
      "outputs": [
        {
          "output_type": "stream",
          "text": [
            "71\n"
          ],
          "name": "stdout"
        }
      ]
    },
    {
      "cell_type": "code",
      "metadata": {
        "colab": {
          "base_uri": "https://localhost:8080/"
        },
        "id": "2BYc2uUpVamL",
        "outputId": "37035e07-3ef8-4bd4-ff99-f24a11e21b5d"
      },
      "source": [
        "%%time\n",
        "model = model.to(device)\n",
        "labels = []\n",
        "results = []\n",
        "\n",
        "for idx, batch in enumerate(test_dataloader):\n",
        "    b_input_ids = batch[0].to(device)\n",
        "    b_labels = batch[1].to(device)\n",
        "    b_target_mapping = batch[2].to(device)\n",
        "    \n",
        "    with torch.no_grad():\n",
        "      outputs = model(input_ids=b_input_ids, labels=b_labels, target_mapping=b_target_mapping)\n",
        "      logits = outputs[1]\n",
        "    \n",
        "    softmax_logits = torch.softmax(logits[0],dim=1)\n",
        "    softmax_logits = softmax_logits.detach().cpu().numpy()\n",
        "\n",
        "    label_ids = b_labels.to('cpu').numpy()\n",
        "    labels.append(label_ids[0])\n",
        "\n",
        "    results.append(softmax_logits)"
      ],
      "execution_count": null,
      "outputs": [
        {
          "output_type": "stream",
          "text": [
            "CPU times: user 5min 45s, sys: 2min 32s, total: 8min 17s\n",
            "Wall time: 8min 18s\n"
          ],
          "name": "stdout"
        }
      ]
    },
    {
      "cell_type": "markdown",
      "metadata": {
        "id": "Pd3QmNnsLWYL"
      },
      "source": [
        "# Evaluation"
      ]
    },
    {
      "cell_type": "code",
      "metadata": {
        "colab": {
          "base_uri": "https://localhost:8080/"
        },
        "id": "p4VPBscSVhWa",
        "outputId": "42fe126f-aa7f-47c1-e9cc-e90e30316811"
      },
      "source": [
        "# Ranking\n",
        "%%time\n",
        "tens = []\n",
        "fives = []\n",
        "ones = []\n",
        "\n",
        "for i in range(0,len(results)):\n",
        "  top_idx = np.argsort(results[i][0][neg_samples[i]])[-10:]\n",
        "  top_values = [neg_samples[i][e] for e in top_idx]\n",
        "  top_values.reverse()\n",
        "  tens.append(top_values)\n",
        "  fives.append(top_values[0:5])\n",
        "  ones.append([top_values[0]])"
      ],
      "execution_count": null,
      "outputs": [
        {
          "output_type": "stream",
          "text": [
            "CPU times: user 57.8 ms, sys: 0 ns, total: 57.8 ms\n",
            "Wall time: 58.6 ms\n"
          ],
          "name": "stdout"
        }
      ]
    },
    {
      "cell_type": "code",
      "metadata": {
        "id": "1k0hxSCQVjIV"
      },
      "source": [
        "# For HitRate\n",
        "matched_tens = []\n",
        "matched_fives = []\n",
        "matched_ones = []\n",
        "\n",
        "for i in range(0,len(labels)):\n",
        "  matched_tens.append(labels[i][0] in tens[i])\n",
        "  matched_fives.append(labels[i][0] in fives[i])\n",
        "  matched_ones.append(labels[i][0] in ones[i])"
      ],
      "execution_count": null,
      "outputs": []
    },
    {
      "cell_type": "code",
      "metadata": {
        "id": "FBy4peWoVl2B"
      },
      "source": [
        "# For HitRate\n",
        "matched_tens = []\n",
        "matched_fives = []\n",
        "matched_ones = []\n",
        "\n",
        "for i in range(0,len(labels)):\n",
        "  matched_tens.append(labels[i][0] in tens[i])\n",
        "  matched_fives.append(labels[i][0] in fives[i])\n",
        "  matched_ones.append(labels[i][0] in ones[i])"
      ],
      "execution_count": null,
      "outputs": []
    },
    {
      "cell_type": "code",
      "metadata": {
        "colab": {
          "base_uri": "https://localhost:8080/"
        },
        "id": "a7QMNlXpVnkj",
        "outputId": "4ab67a2f-f1ad-412b-f178-9d13e037e3e6"
      },
      "source": [
        "# HitRate\n",
        "print('HR@10:', sum(matched_tens)/len(labels))\n",
        "print('HR@5:', sum(matched_fives)/len(labels))\n",
        "print('HR@1:', sum(matched_ones)/len(labels))"
      ],
      "execution_count": null,
      "outputs": [
        {
          "output_type": "stream",
          "text": [
            "HR@10: 0.013245033112582781\n",
            "HR@5: 0.009271523178807948\n",
            "HR@1: 0.002980132450331126\n"
          ],
          "name": "stdout"
        }
      ]
    },
    {
      "cell_type": "code",
      "metadata": {
        "id": "3SWZ-6_cVpPH"
      },
      "source": [
        "# For NDCG\n",
        "ndcg_tens = []\n",
        "ndcg_fives = []\n",
        "ndcg_ones = []\n",
        "\n",
        "for i in range(0,len(labels)):\n",
        "  for j in range(0,len(tens[i])):\n",
        "    if labels[i] == tens[i][j]:\n",
        "      ndcg_tens.append(1/np.log2(j+2))\n",
        "    else:\n",
        "      ndcg_tens.append(0)\n",
        "  for j in range(0,len(fives[i])):\n",
        "    if labels[i] == fives[i][j]:\n",
        "      ndcg_fives.append(1/np.log2(j+2))\n",
        "    else:\n",
        "      ndcg_fives.append(0)\n",
        "  for j in range(0,len(ones[i])):\n",
        "    if labels[i] == ones[i][j]:\n",
        "      ndcg_ones.append(1/np.log2(j+2))\n",
        "    else:\n",
        "      ndcg_ones.append(0)"
      ],
      "execution_count": null,
      "outputs": []
    },
    {
      "cell_type": "code",
      "metadata": {
        "colab": {
          "base_uri": "https://localhost:8080/"
        },
        "id": "H9hG21sAVrCi",
        "outputId": "af8d84e6-ebb2-49bd-c797-89a5dd60f650"
      },
      "source": [
        "# NDCG\n",
        "print('NDCG@10:', np.mean(ndcg_tens))\n",
        "print('NDCG@5:', np.mean(ndcg_fives))\n",
        "print('NDCG@1:', np.mean(ndcg_ones))"
      ],
      "execution_count": null,
      "outputs": [
        {
          "output_type": "stream",
          "text": [
            "NDCG@10: 0.0007509409774537978\n",
            "NDCG@5: 0.0012512977524511103\n",
            "NDCG@1: 0.002980132450331126\n"
          ],
          "name": "stdout"
        }
      ]
    },
    {
      "cell_type": "code",
      "metadata": {
        "id": "TvhWRpEaVsm_"
      },
      "source": [
        "# For MRR\n",
        "rr = []\n",
        "\n",
        "for i in range(0,len(labels)):\n",
        "  for j in range(0,len(tens[i])):\n",
        "    if labels[i] == tens[i][j]:\n",
        "      rr.append(1/(j+1))\n",
        "    else:\n",
        "      rr.append(0)"
      ],
      "execution_count": null,
      "outputs": []
    },
    {
      "cell_type": "code",
      "metadata": {
        "colab": {
          "base_uri": "https://localhost:8080/"
        },
        "id": "Ld9GEFufVuC2",
        "outputId": "742a4646-ac63-4973-9ed7-b0e99a1e00e1"
      },
      "source": [
        "# MRR\n",
        "print('MRR', np.mean(rr)) "
      ],
      "execution_count": null,
      "outputs": [
        {
          "output_type": "stream",
          "text": [
            "MRR 0.0005757253232418795\n"
          ],
          "name": "stdout"
        }
      ]
    }
  ]
}